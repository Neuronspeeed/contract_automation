{
 "cells": [
  {
   "cell_type": "code",
   "execution_count": 6,
   "metadata": {},
   "outputs": [],
   "source": [
    "from langgraph.graph import StateGraph, MessagesState, END\n",
    "from typing import TypedDict, List\n",
    "from langchain_core.messages import HumanMessage, AIMessage\n",
    "from IPython.display import Image, display\n",
    "\n"
   ]
  },
  {
   "cell_type": "code",
   "execution_count": 9,
   "metadata": {},
   "outputs": [
    {
     "name": "stdout",
     "output_type": "stream",
     "text": [
      "{'messages': [HumanMessage(content='Is this information correct?', additional_kwargs={}, response_metadata={}, id='c458b406-4bc4-4838-80ba-81072d5e83f4')], 'pii_data': {'name': 'John Doe'}, 'address': '123 Main St', 'buyer': 'Alice', 'seller': 'Bob', 'contract': 'Contract between Alice and Bob'}\n"
     ]
    }
   ],
   "source": [
    "# Define the state with messages and any additional keys you need\n",
    "class ContractState(MessagesState):\n",
    "    pii_data: dict\n",
    "    address: str\n",
    "    buyer: str\n",
    "    seller: str\n",
    "    contract: str\n",
    "\n",
    "# Define the logic for each node\n",
    "def extract_pii_and_address(state: ContractState) -> ContractState:\n",
    "    # Placeholder logic for extracting PII and address\n",
    "    return {\"pii_data\": {\"name\": \"John Doe\"}, \"address\": \"123 Main St\"}\n",
    "\n",
    "def human_verification(state: ContractState) -> ContractState:\n",
    "    # Placeholder logic for human verification\n",
    "    state[\"messages\"].append(HumanMessage(content=\"Is this information correct?\"))\n",
    "    return state\n",
    "\n",
    "def missing_information(state: ContractState) -> ContractState:\n",
    "    # Placeholder logic for asking about missing information\n",
    "    state[\"messages\"].append(HumanMessage(content=\"Please provide any missing information.\"))\n",
    "    return state\n",
    "\n",
    "def identify_buyer_and_seller(state: ContractState) -> ContractState:\n",
    "    # Placeholder logic for identifying buyer and seller\n",
    "    return {\"buyer\": \"Alice\", \"seller\": \"Bob\"}\n",
    "\n",
    "def construct_contract(state: ContractState) -> ContractState:\n",
    "    # Placeholder logic for constructing the contract\n",
    "    return {\"contract\": \"Contract between Alice and Bob\"}\n",
    "\n",
    "# Create the graph\n",
    "graph = StateGraph(ContractState)\n",
    "\n",
    "# Add nodes\n",
    "graph.add_node(\"extract_pii_and_address\", extract_pii_and_address)\n",
    "graph.add_node(\"human_verification\", human_verification)\n",
    "graph.add_node(\"missing_information\", missing_information)\n",
    "graph.add_node(\"identify_buyer_and_seller\", identify_buyer_and_seller)\n",
    "graph.add_node(\"construct_contract\", construct_contract)\n",
    "\n",
    "# Define edges\n",
    "graph.set_entry_point(\"extract_pii_and_address\")\n",
    "graph.add_edge(\"extract_pii_and_address\", \"human_verification\")\n",
    "graph.add_conditional_edges(\"human_verification\", lambda state: \"missing_information\" if \"missing\" in state else \"identify_buyer_and_seller\")\n",
    "graph.add_edge(\"missing_information\", \"human_verification\")\n",
    "graph.add_edge(\"identify_buyer_and_seller\", \"construct_contract\")\n",
    "graph.add_edge(\"construct_contract\", END)\n",
    "\n",
    "# Compile the graph\n",
    "app = graph.compile()\n",
    "\n",
    "# Example invocation\n",
    "initial_state = {\"messages\": []}\n",
    "result = app.invoke(initial_state)\n",
    "print(result)\n",
    "\n",
    "\n",
    "\n"
   ]
  },
  {
   "cell_type": "code",
   "execution_count": null,
   "metadata": {},
   "outputs": [],
   "source": []
  }
 ],
 "metadata": {
  "kernelspec": {
   "display_name": ".venv",
   "language": "python",
   "name": "python3"
  },
  "language_info": {
   "codemirror_mode": {
    "name": "ipython",
    "version": 3
   },
   "file_extension": ".py",
   "mimetype": "text/x-python",
   "name": "python",
   "nbconvert_exporter": "python",
   "pygments_lexer": "ipython3",
   "version": "3.12.5"
  }
 },
 "nbformat": 4,
 "nbformat_minor": 2
}
